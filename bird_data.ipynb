{
 "cells": [
  {
   "cell_type": "code",
   "execution_count": 46,
   "metadata": {},
   "outputs": [],
   "source": [
    "from tweety.bot import Twitter\n",
    "import pandas as pd"
   ]
  },
  {
   "cell_type": "code",
   "execution_count": 47,
   "metadata": {},
   "outputs": [],
   "source": [
    "app = Twitter(\"elonmusk\")\n",
    "all_tweets = app.get_tweets()"
   ]
  },
  {
   "cell_type": "code",
   "execution_count": 5,
   "metadata": {},
   "outputs": [
    {
     "data": {
      "text/plain": [
       "tweety.types.usertweet.UserTweets"
      ]
     },
     "execution_count": 5,
     "metadata": {},
     "output_type": "execute_result"
    }
   ],
   "source": [
    "type(all_tweets)"
   ]
  },
  {
   "cell_type": "code",
   "execution_count": 4,
   "metadata": {},
   "outputs": [
    {
     "name": "stdout",
     "output_type": "stream",
     "text": [
      "Tweet(id=1663267596689350656, author=User(id=44196397, name=Elon Musk, username=elonmusk, followers=141366446, verified=False), created_on=2023-05-29 19:34:31+00:00, threads=None)\n",
      "Tweet(id=1663256010629185539, author=User(id=44196397, name=Elon Musk, username=elonmusk, followers=141366446, verified=False), created_on=2023-05-29 18:48:29+00:00, threads=None)\n",
      "Tweet(id=1663255699365691399, author=User(id=44196397, name=Elon Musk, username=elonmusk, followers=141366446, verified=False), created_on=2023-05-29 18:47:15+00:00, threads=None)\n",
      "Tweet(id=1663244096503160833, author=User(id=44196397, name=Elon Musk, username=elonmusk, followers=141366446, verified=False), created_on=2023-05-29 18:01:08+00:00, threads=None)\n",
      "Tweet(id=1663238724048519177, author=User(id=44196397, name=Elon Musk, username=elonmusk, followers=141366446, verified=False), created_on=2023-05-29 17:39:47+00:00, threads=None)\n",
      "Tweet(id=1663232015267938306, author=User(id=44196397, name=Elon Musk, username=elonmusk, followers=141366446, verified=False), created_on=2023-05-29 17:13:08+00:00, threads=None)\n",
      "Tweet(id=1663215495472902146, author=User(id=44196397, name=Elon Musk, username=elonmusk, followers=141366446, verified=False), created_on=2023-05-29 16:07:29+00:00, threads=None)\n",
      "Tweet(id=1663015083738374146, author=User(id=44196397, name=Elon Musk, username=elonmusk, followers=141366446, verified=False), created_on=2023-05-29 02:51:07+00:00, threads=None)\n",
      "Tweet(id=1662976829089513472, author=User(id=44196397, name=Elon Musk, username=elonmusk, followers=141366446, verified=False), created_on=2023-05-29 00:19:07+00:00, threads=None)\n",
      "Tweet(id=1662667558539886592, author=User(id=44196397, name=Elon Musk, username=elonmusk, followers=141366446, verified=False), created_on=2023-05-28 03:50:11+00:00, threads=None)\n",
      "Tweet(id=1662654838398697472, author=User(id=44196397, name=Elon Musk, username=elonmusk, followers=141366446, verified=False), created_on=2023-05-28 02:59:38+00:00, threads=None)\n",
      "Tweet(id=1662654173677068289, author=User(id=44196397, name=Elon Musk, username=elonmusk, followers=141366446, verified=False), created_on=2023-05-28 02:57:00+00:00, threads=None)\n",
      "Tweet(id=1662644286867775488, author=User(id=44196397, name=Elon Musk, username=elonmusk, followers=141366446, verified=False), created_on=2023-05-28 02:17:43+00:00, threads=None)\n",
      "Tweet(id=1662539707559952384, author=User(id=44196397, name=Elon Musk, username=elonmusk, followers=141366446, verified=False), created_on=2023-05-27 19:22:09+00:00, threads=None)\n",
      "Tweet(id=1662532868545949697, author=User(id=44196397, name=Elon Musk, username=elonmusk, followers=141366446, verified=False), created_on=2023-05-27 18:54:58+00:00, threads=None)\n",
      "Tweet(id=1662529714634752001, author=User(id=44196397, name=Elon Musk, username=elonmusk, followers=141366446, verified=False), created_on=2023-05-27 18:42:26+00:00, threads=None)\n",
      "Tweet(id=1662528767221280768, author=User(id=44196397, name=Elon Musk, username=elonmusk, followers=141366446, verified=False), created_on=2023-05-27 18:38:41+00:00, threads=None)\n",
      "Tweet(id=1662508369234608128, author=User(id=44196397, name=Elon Musk, username=elonmusk, followers=141366446, verified=False), created_on=2023-05-27 17:17:37+00:00, threads=None)\n",
      "Tweet(id=1662485840906289153, author=User(id=44196397, name=Elon Musk, username=elonmusk, followers=141366446, verified=False), created_on=2023-05-27 15:48:06+00:00, threads=None)\n",
      "Tweet(id=1662331871080988672, author=User(id=44196397, name=Elon Musk, username=elonmusk, followers=141366446, verified=False), created_on=2023-05-27 05:36:17+00:00, threads=None)\n"
     ]
    }
   ],
   "source": [
    "for tweet in all_tweets:\n",
    "    print(tweet)"
   ]
  },
  {
   "cell_type": "code",
   "execution_count": 48,
   "metadata": {},
   "outputs": [],
   "source": [
    "user_info = app.get_user_info(\"elonmusk\")"
   ]
  },
  {
   "cell_type": "code",
   "execution_count": 62,
   "metadata": {},
   "outputs": [
    {
     "name": "stdout",
     "output_type": "stream",
     "text": [
      "{'id': 'VXNlcjo0NDE5NjM5Nw==', 'rest_id': '44196397', 'created_at': datetime.datetime(2009, 6, 2, 20, 12, 29, tzinfo=tzutc()), 'default_profile': False, 'default_profile_image': False, 'description': '', 'entities': {'description': {'urls': []}}, 'fast_followers_count': 0, 'favourites_count': 24600, 'followers_count': 141380864, 'friends_count': 311, 'has_custom_timelines': True, 'is_translator': False, 'listed_count': 122667, 'location': '', 'media_count': 1568, 'name': 'Elon Musk', 'normal_followers_count': 141380864, 'profile_banner_url': 'https://pbs.twimg.com/profile_banners/44196397/1576183471', 'profile_image_url_https': 'https://pbs.twimg.com/profile_images/1590968738358079488/IY9Gx6Ok_normal.jpg', 'profile_interstitial_type': '', 'protected': False, 'screen_name': 'elonmusk', 'username': 'elonmusk', 'statuses_count': 26406, 'translator_type': 'none', 'verified': False, 'verified_type': None, 'possibly_sensitive': None, 'pinned_tweets': [], 'profile_url': 'https://twitter.com/elonmusk'}\n"
     ]
    }
   ],
   "source": [
    "info = {}\n",
    "user_info = app.get_user_info(\"elonmusk\")\n",
    "for key,value in user_info.items():\n",
    "    info[key] = value\n",
    "print(info)"
   ]
  },
  {
   "cell_type": "code",
   "execution_count": 36,
   "metadata": {},
   "outputs": [
    {
     "name": "stdout",
     "output_type": "stream",
     "text": [
      "{'id': 'https://twitter.com/elonmusk', 'rest_id': 'https://twitter.com/elonmusk', 'created_at': 'https://twitter.com/elonmusk', 'default_profile': 'https://twitter.com/elonmusk', 'default_profile_image': 'https://twitter.com/elonmusk', 'description': 'https://twitter.com/elonmusk', 'entities': 'https://twitter.com/elonmusk', 'fast_followers_count': 'https://twitter.com/elonmusk', 'favourites_count': 'https://twitter.com/elonmusk', 'followers_count': 'https://twitter.com/elonmusk', 'friends_count': 'https://twitter.com/elonmusk', 'has_custom_timelines': 'https://twitter.com/elonmusk', 'is_translator': 'https://twitter.com/elonmusk', 'listed_count': 'https://twitter.com/elonmusk', 'location': 'https://twitter.com/elonmusk', 'media_count': 'https://twitter.com/elonmusk', 'name': 'https://twitter.com/elonmusk', 'normal_followers_count': 'https://twitter.com/elonmusk', 'profile_banner_url': 'https://twitter.com/elonmusk', 'profile_image_url_https': 'https://twitter.com/elonmusk', 'profile_interstitial_type': 'https://twitter.com/elonmusk', 'protected': 'https://twitter.com/elonmusk', 'screen_name': 'https://twitter.com/elonmusk', 'username': 'https://twitter.com/elonmusk', 'statuses_count': 'https://twitter.com/elonmusk', 'translator_type': 'https://twitter.com/elonmusk', 'verified': 'https://twitter.com/elonmusk', 'verified_type': 'https://twitter.com/elonmusk', 'possibly_sensitive': 'https://twitter.com/elonmusk', 'pinned_tweets': 'https://twitter.com/elonmusk', 'profile_url': 'https://twitter.com/elonmusk'}\n"
     ]
    }
   ],
   "source": [
    "print(info)"
   ]
  },
  {
   "cell_type": "code",
   "execution_count": 60,
   "metadata": {},
   "outputs": [],
   "source": [
    "df = pd.DataFrame([info])"
   ]
  },
  {
   "cell_type": "code",
   "execution_count": 63,
   "metadata": {},
   "outputs": [
    {
     "data": {
      "text/html": [
       "<div>\n",
       "<style scoped>\n",
       "    .dataframe tbody tr th:only-of-type {\n",
       "        vertical-align: middle;\n",
       "    }\n",
       "\n",
       "    .dataframe tbody tr th {\n",
       "        vertical-align: top;\n",
       "    }\n",
       "\n",
       "    .dataframe thead th {\n",
       "        text-align: right;\n",
       "    }\n",
       "</style>\n",
       "<table border=\"1\" class=\"dataframe\">\n",
       "  <thead>\n",
       "    <tr style=\"text-align: right;\">\n",
       "      <th></th>\n",
       "      <th>id</th>\n",
       "      <th>rest_id</th>\n",
       "      <th>created_at</th>\n",
       "      <th>default_profile</th>\n",
       "      <th>default_profile_image</th>\n",
       "      <th>description</th>\n",
       "      <th>entities</th>\n",
       "      <th>fast_followers_count</th>\n",
       "      <th>favourites_count</th>\n",
       "      <th>followers_count</th>\n",
       "      <th>...</th>\n",
       "      <th>protected</th>\n",
       "      <th>screen_name</th>\n",
       "      <th>username</th>\n",
       "      <th>statuses_count</th>\n",
       "      <th>translator_type</th>\n",
       "      <th>verified</th>\n",
       "      <th>verified_type</th>\n",
       "      <th>possibly_sensitive</th>\n",
       "      <th>pinned_tweets</th>\n",
       "      <th>profile_url</th>\n",
       "    </tr>\n",
       "  </thead>\n",
       "  <tbody>\n",
       "    <tr>\n",
       "      <th>0</th>\n",
       "      <td>VXNlcjo0NDE5NjM5Nw==</td>\n",
       "      <td>44196397</td>\n",
       "      <td>2009-06-02 20:12:29+00:00</td>\n",
       "      <td>False</td>\n",
       "      <td>False</td>\n",
       "      <td></td>\n",
       "      <td>{'description': {'urls': []}}</td>\n",
       "      <td>0</td>\n",
       "      <td>24600</td>\n",
       "      <td>141380743</td>\n",
       "      <td>...</td>\n",
       "      <td>False</td>\n",
       "      <td>elonmusk</td>\n",
       "      <td>elonmusk</td>\n",
       "      <td>26406</td>\n",
       "      <td>none</td>\n",
       "      <td>False</td>\n",
       "      <td>None</td>\n",
       "      <td>None</td>\n",
       "      <td>[]</td>\n",
       "      <td>https://twitter.com/elonmusk</td>\n",
       "    </tr>\n",
       "  </tbody>\n",
       "</table>\n",
       "<p>1 rows × 31 columns</p>\n",
       "</div>"
      ],
      "text/plain": [
       "                     id   rest_id                created_at  default_profile  \\\n",
       "0  VXNlcjo0NDE5NjM5Nw==  44196397 2009-06-02 20:12:29+00:00            False   \n",
       "\n",
       "   default_profile_image description                       entities  \\\n",
       "0                  False              {'description': {'urls': []}}   \n",
       "\n",
       "   fast_followers_count  favourites_count  followers_count  ...  protected  \\\n",
       "0                     0             24600        141380743  ...      False   \n",
       "\n",
       "   screen_name  username  statuses_count translator_type  verified  \\\n",
       "0     elonmusk  elonmusk           26406            none     False   \n",
       "\n",
       "  verified_type  possibly_sensitive pinned_tweets  \\\n",
       "0          None                None            []   \n",
       "\n",
       "                    profile_url  \n",
       "0  https://twitter.com/elonmusk  \n",
       "\n",
       "[1 rows x 31 columns]"
      ]
     },
     "execution_count": 63,
     "metadata": {},
     "output_type": "execute_result"
    }
   ],
   "source": [
    "df"
   ]
  }
 ],
 "metadata": {
  "kernelspec": {
   "display_name": "venv",
   "language": "python",
   "name": "python3"
  },
  "language_info": {
   "codemirror_mode": {
    "name": "ipython",
    "version": 3
   },
   "file_extension": ".py",
   "mimetype": "text/x-python",
   "name": "python",
   "nbconvert_exporter": "python",
   "pygments_lexer": "ipython3",
   "version": "3.10.4"
  },
  "orig_nbformat": 4
 },
 "nbformat": 4,
 "nbformat_minor": 2
}
